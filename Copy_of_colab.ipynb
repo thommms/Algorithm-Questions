{
  "nbformat": 4,
  "nbformat_minor": 0,
  "metadata": {
    "colab": {
      "name": "Copy of colab.ipynb",
      "provenance": [],
      "authorship_tag": "ABX9TyOEQopYQHQvbZi+G62l59aK",
      "include_colab_link": true
    },
    "kernelspec": {
      "name": "python3",
      "display_name": "Python 3"
    },
    "language_info": {
      "name": "python"
    }
  },
  "cells": [
    {
      "cell_type": "markdown",
      "metadata": {
        "id": "view-in-github",
        "colab_type": "text"
      },
      "source": [
        "<a href=\"https://colab.research.google.com/github/thommms/Algorithm-Questions/blob/main/Copy_of_colab.ipynb\" target=\"_parent\"><img src=\"https://colab.research.google.com/assets/colab-badge.svg\" alt=\"Open In Colab\"/></a>"
      ]
    },
    {
      "cell_type": "code",
      "metadata": {
        "id": "yfkh777hGmkm"
      },
      "source": [
        "def addTwoNumber(l1, l2):\n",
        "  print (l1)\n",
        "  print (len(l1))\n",
        "  l3 = deque()\n",
        "  print ()\n",
        "  for i in range(len(l1)):\n"
      ],
      "execution_count": null,
      "outputs": []
    },
    {
      "cell_type": "code",
      "metadata": {
        "id": "fvj-NKWWGuQx",
        "colab": {
          "base_uri": "https://localhost:8080/"
        },
        "outputId": "a27f2c48-9e00-4aca-a4d5-f6eeacba9163"
      },
      "source": [
        "\n",
        "from collections import deque\n",
        "\n",
        "l1 = deque()\n",
        "l2 = deque()\n",
        "\n",
        "l1.append(2)\n",
        "l1.append(4)\n",
        "l1.append(3)\n",
        "\n",
        "l2.append(5)\n",
        "l2.append(6)\n",
        "l2.append(4)\n",
        "\n",
        "\n",
        "addTwoNumber(l1, l2)"
      ],
      "execution_count": null,
      "outputs": [
        {
          "output_type": "stream",
          "name": "stdout",
          "text": [
            "deque([2, 4, 3])\n",
            "3\n"
          ]
        }
      ]
    },
    {
      "cell_type": "code",
      "metadata": {
        "id": "cYAu63c_G6p8",
        "colab": {
          "base_uri": "https://localhost:8080/"
        },
        "outputId": "f0d0dca7-dcce-488b-8a3c-a1a3f18f6ea1"
      },
      "source": [
        "nums= [\"test.email+alex@leetcode.com\",\"test.e.mail+bob.cathy@leetcode.com\",\"testemail+david@lee.tcode.com\"]\n",
        "numUniqueEmails(nums)"
      ],
      "execution_count": null,
      "outputs": [
        {
          "output_type": "stream",
          "name": "stdout",
          "text": [
            "['testemail@leetcode.com', 'testemail@leetcode.com', 'testemail@lee.tcode.com']\n"
          ]
        }
      ]
    },
    {
      "cell_type": "code",
      "metadata": {
        "id": "kYTYAG09-jMU"
      },
      "source": [
        ""
      ],
      "execution_count": null,
      "outputs": []
    }
  ]
}