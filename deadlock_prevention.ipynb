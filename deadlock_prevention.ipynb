{
  "nbformat": 4,
  "nbformat_minor": 0,
  "metadata": {
    "colab": {
      "name": "deadlock_prevention.ipynb",
      "provenance": []
    },
    "kernelspec": {
      "name": "python3",
      "display_name": "Python 3"
    },
    "language_info": {
      "name": "python"
    }
  },
  "cells": [
    {
      "cell_type": "markdown",
      "source": [
        "#Deadlock Prevention assignment\n",
        "##Write a program in a language of your choice that prevents the deadlock from occurring.\n",
        "\n",
        "Your program should seek the following information from the user.\n",
        "\n",
        "1. Maximum available resources per resource type. \n",
        "\n",
        "2. Total number of processes\n",
        "\n",
        "3. Resources of each resource type that are currently allocated to each process\n",
        "\n",
        "4. what additional resources of each resource type does each process need to finish the task at hand. \n",
        "\n",
        "After collecting the above information you program should check and see if the processes are able to complete the execution using the available resources or will they be deadlocked?"
      ],
      "metadata": {
        "id": "NZQUcZ4-7EIS"
      }
    },
    {
      "cell_type": "markdown",
      "source": [
        "###Solution"
      ],
      "metadata": {
        "id": "52pMT9ut7lxw"
      }
    },
    {
      "cell_type": "code",
      "source": [
        "import numpy as np\n",
        "\n",
        "def deadlockPrevention(need,currAvailable,allocation):\n",
        "  output =[]\n",
        "  processes = \"\"\n",
        "  tracker = 0\n",
        "  deadlock_checker=0\n",
        "  while (tracker<len(currAvailable)):\n",
        "    for n in need:\n",
        "      need_index = need.index(n)\n",
        "      if checkIfNeed(n,currAvailable,need_index)!=-1:\n",
        "        # processes.append(need_index)\n",
        "        all_index = checkIfNeed(n,currAvailable,need_index)\n",
        "\n",
        "        if allocation[all_index] not in output:\n",
        "          output.append(allocation[all_index])\n",
        "          processes+=\"P\"\n",
        "          processes+=str(need_index);\n",
        "          processes+=\", \"\n",
        "\n",
        "          print (\"\\n>> For process P%d\"%need_index)\n",
        "          print (\"Total allocation: \",allocation)\n",
        "          print (\"process to be completed in the allocation: \",allocation[need_index])\n",
        "          print (\"currently available: \",currAvailable)\n",
        "          currAvailable = list(map(lambda x,y: x+y, currAvailable,allocation[all_index]))\n",
        "          # need.remove(need[i+1])\n",
        "          print (\"\\nAfter process execution...\\n\")\n",
        "          print (\"new currently available resources: \",currAvailable)\n",
        "          print (\"==================\")\n",
        "    tracker+=1\n",
        "    deadlock_checker+=1\n",
        "    if deadlock_checker>len(currAvailable):\n",
        "      return \"DEADLOCK OCCURS... HENCE TERMINATED\"\n",
        "  print (\"\\nTo prevent deadlock, run the processes in this order: \",processes)\n",
        "  print (\"Here are the resources of the process\",output)\n",
        "  print (\"upon process completion, the available resources are \",currAvailable)\n",
        "\n",
        "def totalAllocationUsed(allocation,number_processes):\n",
        "  answer = []\n",
        "  for column in range(number_processes-1):\n",
        "    t=0\n",
        "    for row in allocation:\n",
        "      t+=row[column]\n",
        "    answer.append(t)\n",
        "  return answer\n",
        "\n",
        "def checkIfNeed(needArr,currAvailable,need_index):\n",
        "  count=0\n",
        "  for i in range(len(needArr)):\n",
        "    if currAvailable[i]>=needArr[i]:\n",
        "      count+=1\n",
        "    if count==len(currAvailable):\n",
        "      return need_index\n",
        "  return -1\n",
        "\n",
        "def deadlockMain(totalResource,number_processes,allocation,amountNeeded):\n",
        "\n",
        "  #The code below computes the need, current available resources and total allocation\n",
        "  need= np.subtract(amountNeeded,allocation).tolist()\n",
        "  totalAllocation = totalAllocationUsed(allocation,number_processes)\n",
        "  currAvailable = np.subtract(totalResource,totalAllocation)\n",
        "\n",
        "  print (\"Need: \",need)\n",
        "  print (\"currently available: \",currAvailable)\n",
        "\n",
        "  deadlockPrevention(need,currAvailable,allocation)"
      ],
      "metadata": {
        "id": "cFtnfSSc7ZhI"
      },
      "execution_count": 2,
      "outputs": []
    },
    {
      "cell_type": "markdown",
      "source": [
        "####Taking inputs, running the code and outputs"
      ],
      "metadata": {
        "id": "jTXwAEVd7xEX"
      }
    },
    {
      "cell_type": "code",
      "source": [
        " #=====================Running the code=================================================\n",
        "\n",
        "#enter your inputs in these given arrays\n",
        "totalResource=[6,8,7]\n",
        "number_processes= 4\n",
        "allocation=[[2,2,0],[3,2,0],[1,1,3],[0,0,2]]\n",
        "amountNeeded =[[4,5,3],[3,2,3],[1,2,3],[1,0,2]]\n",
        "\n",
        "deadlockMain(totalResource,number_processes,allocation,amountNeeded)"
      ],
      "metadata": {
        "colab": {
          "base_uri": "https://localhost:8080/"
        },
        "id": "OTaiu-uI7usP",
        "outputId": "3ec2a699-80fd-4ae1-8428-c6df8f501475"
      },
      "execution_count": 3,
      "outputs": [
        {
          "output_type": "stream",
          "name": "stdout",
          "text": [
            "Need:  [[2, 3, 3], [0, 0, 3], [0, 1, 0], [1, 0, 0]]\n",
            "currently available:  [0 3 2]\n",
            "\n",
            ">> For process P2\n",
            "Total allocation:  [[2, 2, 0], [3, 2, 0], [1, 1, 3], [0, 0, 2]]\n",
            "process to be completed in the allocation:  [1, 1, 3]\n",
            "currently available:  [0 3 2]\n",
            "\n",
            "After process execution...\n",
            "\n",
            "new currently available resources:  [1, 4, 5]\n",
            "==================\n",
            "\n",
            ">> For process P3\n",
            "Total allocation:  [[2, 2, 0], [3, 2, 0], [1, 1, 3], [0, 0, 2]]\n",
            "process to be completed in the allocation:  [0, 0, 2]\n",
            "currently available:  [1, 4, 5]\n",
            "\n",
            "After process execution...\n",
            "\n",
            "new currently available resources:  [1, 4, 7]\n",
            "==================\n",
            "\n",
            ">> For process P1\n",
            "Total allocation:  [[2, 2, 0], [3, 2, 0], [1, 1, 3], [0, 0, 2]]\n",
            "process to be completed in the allocation:  [3, 2, 0]\n",
            "currently available:  [1, 4, 7]\n",
            "\n",
            "After process execution...\n",
            "\n",
            "new currently available resources:  [4, 6, 7]\n",
            "==================\n",
            "\n",
            ">> For process P0\n",
            "Total allocation:  [[2, 2, 0], [3, 2, 0], [1, 1, 3], [0, 0, 2]]\n",
            "process to be completed in the allocation:  [2, 2, 0]\n",
            "currently available:  [4, 6, 7]\n",
            "\n",
            "After process execution...\n",
            "\n",
            "new currently available resources:  [6, 8, 7]\n",
            "==================\n",
            "\n",
            "To prevent deadlock, run the processes in this order:  P2, P3, P1, P0, \n",
            "Here are the resources of the process [[1, 1, 3], [0, 0, 2], [3, 2, 0], [2, 2, 0]]\n",
            "upon process completion, the available resources are  [6, 8, 7]\n"
          ]
        }
      ]
    },
    {
      "cell_type": "code",
      "source": [
        ""
      ],
      "metadata": {
        "id": "d4_EISb777fc"
      },
      "execution_count": null,
      "outputs": []
    }
  ]
}